{
 "cells": [
  {
   "cell_type": "code",
   "execution_count": 1,
   "id": "f01f36d5-7d01-41ce-8461-5cb0d18100e3",
   "metadata": {},
   "outputs": [
    {
     "name": "stdout",
     "output_type": "stream",
     "text": [
      "Collecting librosa\n",
      "  Downloading librosa-0.11.0-py3-none-any.whl.metadata (8.7 kB)\n",
      "Requirement already satisfied: numpy in c:\\users\\user\\miniconda3\\envs\\developenv\\lib\\site-packages (2.3.0)\n",
      "Requirement already satisfied: scipy in c:\\users\\user\\miniconda3\\envs\\developenv\\lib\\site-packages (1.15.3)\n",
      "Collecting dtw-python\n",
      "  Downloading dtw_python-1.5.3-cp312-cp312-win_amd64.whl.metadata (48 kB)\n",
      "Collecting audioread>=2.1.9 (from librosa)\n",
      "  Downloading audioread-3.0.1-py3-none-any.whl.metadata (8.4 kB)\n",
      "Collecting numba>=0.51.0 (from librosa)\n",
      "  Downloading numba-0.61.2-cp312-cp312-win_amd64.whl.metadata (2.9 kB)\n",
      "Collecting scikit-learn>=1.1.0 (from librosa)\n",
      "  Downloading scikit_learn-1.7.0-cp312-cp312-win_amd64.whl.metadata (14 kB)\n",
      "Collecting joblib>=1.0 (from librosa)\n",
      "  Downloading joblib-1.5.1-py3-none-any.whl.metadata (5.6 kB)\n",
      "Requirement already satisfied: decorator>=4.3.0 in c:\\users\\user\\miniconda3\\envs\\developenv\\lib\\site-packages (from librosa) (5.1.1)\n",
      "Collecting soundfile>=0.12.1 (from librosa)\n",
      "  Downloading soundfile-0.13.1-py2.py3-none-win_amd64.whl.metadata (16 kB)\n",
      "Collecting pooch>=1.1 (from librosa)\n",
      "  Downloading pooch-1.8.2-py3-none-any.whl.metadata (10 kB)\n",
      "Collecting soxr>=0.3.2 (from librosa)\n",
      "  Downloading soxr-0.5.0.post1-cp312-abi3-win_amd64.whl.metadata (5.6 kB)\n",
      "Requirement already satisfied: typing_extensions>=4.1.1 in c:\\users\\user\\miniconda3\\envs\\developenv\\lib\\site-packages (from librosa) (4.12.2)\n",
      "Collecting lazy_loader>=0.1 (from librosa)\n",
      "  Downloading lazy_loader-0.4-py3-none-any.whl.metadata (7.6 kB)\n",
      "Collecting msgpack>=1.0 (from librosa)\n",
      "  Downloading msgpack-1.1.1-cp312-cp312-win_amd64.whl.metadata (8.6 kB)\n",
      "Requirement already satisfied: packaging in c:\\users\\user\\miniconda3\\envs\\developenv\\lib\\site-packages (from lazy_loader>=0.1->librosa) (24.2)\n",
      "Collecting llvmlite<0.45,>=0.44.0dev0 (from numba>=0.51.0->librosa)\n",
      "  Downloading llvmlite-0.44.0-cp312-cp312-win_amd64.whl.metadata (5.0 kB)\n",
      "Collecting numpy\n",
      "  Downloading numpy-2.2.6-cp312-cp312-win_amd64.whl.metadata (60 kB)\n",
      "Requirement already satisfied: platformdirs>=2.5.0 in c:\\users\\user\\miniconda3\\envs\\developenv\\lib\\site-packages (from pooch>=1.1->librosa) (4.3.7)\n",
      "Requirement already satisfied: requests>=2.19.0 in c:\\users\\user\\miniconda3\\envs\\developenv\\lib\\site-packages (from pooch>=1.1->librosa) (2.32.3)\n",
      "Requirement already satisfied: charset-normalizer<4,>=2 in c:\\users\\user\\miniconda3\\envs\\developenv\\lib\\site-packages (from requests>=2.19.0->pooch>=1.1->librosa) (3.3.2)\n",
      "Requirement already satisfied: idna<4,>=2.5 in c:\\users\\user\\miniconda3\\envs\\developenv\\lib\\site-packages (from requests>=2.19.0->pooch>=1.1->librosa) (3.7)\n",
      "Requirement already satisfied: urllib3<3,>=1.21.1 in c:\\users\\user\\miniconda3\\envs\\developenv\\lib\\site-packages (from requests>=2.19.0->pooch>=1.1->librosa) (2.3.0)\n",
      "Requirement already satisfied: certifi>=2017.4.17 in c:\\users\\user\\miniconda3\\envs\\developenv\\lib\\site-packages (from requests>=2.19.0->pooch>=1.1->librosa) (2025.4.26)\n",
      "Collecting threadpoolctl>=3.1.0 (from scikit-learn>=1.1.0->librosa)\n",
      "  Downloading threadpoolctl-3.6.0-py3-none-any.whl.metadata (13 kB)\n",
      "Requirement already satisfied: cffi>=1.0 in c:\\users\\user\\miniconda3\\envs\\developenv\\lib\\site-packages (from soundfile>=0.12.1->librosa) (1.17.1)\n",
      "Requirement already satisfied: pycparser in c:\\users\\user\\miniconda3\\envs\\developenv\\lib\\site-packages (from cffi>=1.0->soundfile>=0.12.1->librosa) (2.21)\n",
      "Downloading librosa-0.11.0-py3-none-any.whl (260 kB)\n",
      "Downloading dtw_python-1.5.3-cp312-cp312-win_amd64.whl (376 kB)\n",
      "Downloading audioread-3.0.1-py3-none-any.whl (23 kB)\n",
      "Downloading joblib-1.5.1-py3-none-any.whl (307 kB)\n",
      "Downloading lazy_loader-0.4-py3-none-any.whl (12 kB)\n",
      "Downloading msgpack-1.1.1-cp312-cp312-win_amd64.whl (72 kB)\n",
      "Downloading numba-0.61.2-cp312-cp312-win_amd64.whl (2.8 MB)\n",
      "   ---------------------------------------- 0.0/2.8 MB ? eta -:--:--\n",
      "   ---------------------------------------- 2.8/2.8 MB 23.6 MB/s eta 0:00:00\n",
      "Downloading numpy-2.2.6-cp312-cp312-win_amd64.whl (12.6 MB)\n",
      "   ---------------------------------------- 0.0/12.6 MB ? eta -:--:--\n",
      "   -------------- ------------------------- 4.7/12.6 MB 22.0 MB/s eta 0:00:01\n",
      "   ---------------------------- ----------- 8.9/12.6 MB 21.3 MB/s eta 0:00:01\n",
      "   ---------------------------------------- 12.6/12.6 MB 24.0 MB/s eta 0:00:00\n",
      "Downloading llvmlite-0.44.0-cp312-cp312-win_amd64.whl (30.3 MB)\n",
      "   ---------------------------------------- 0.0/30.3 MB ? eta -:--:--\n",
      "   -------- ------------------------------- 6.8/30.3 MB 38.1 MB/s eta 0:00:01\n",
      "   --------------- ------------------------ 11.5/30.3 MB 28.9 MB/s eta 0:00:01\n",
      "   ---------------------------- ----------- 21.2/30.3 MB 33.6 MB/s eta 0:00:01\n",
      "   ---------------------------------------  30.1/30.3 MB 36.8 MB/s eta 0:00:01\n",
      "   ---------------------------------------- 30.3/30.3 MB 33.8 MB/s eta 0:00:00\n",
      "Downloading pooch-1.8.2-py3-none-any.whl (64 kB)\n",
      "Downloading scikit_learn-1.7.0-cp312-cp312-win_amd64.whl (10.7 MB)\n",
      "   ---------------------------------------- 0.0/10.7 MB ? eta -:--:--\n",
      "   ------------------------------- -------- 8.4/10.7 MB 43.5 MB/s eta 0:00:01\n",
      "   ---------------------------------------- 10.7/10.7 MB 33.4 MB/s eta 0:00:00\n",
      "Downloading soundfile-0.13.1-py2.py3-none-win_amd64.whl (1.0 MB)\n",
      "   ---------------------------------------- 0.0/1.0 MB ? eta -:--:--\n",
      "   ---------------------------------------- 1.0/1.0 MB 16.1 MB/s eta 0:00:00\n",
      "Downloading soxr-0.5.0.post1-cp312-abi3-win_amd64.whl (164 kB)\n",
      "Downloading threadpoolctl-3.6.0-py3-none-any.whl (18 kB)\n",
      "Installing collected packages: threadpoolctl, numpy, msgpack, llvmlite, lazy_loader, joblib, audioread, soxr, soundfile, pooch, numba, scikit-learn, dtw-python, librosa\n",
      "\n",
      "  Attempting uninstall: numpy\n",
      "\n",
      "    Found existing installation: numpy 2.3.0\n",
      "\n",
      "   -- -------------------------------------  1/14 [numpy]\n",
      "   -- -------------------------------------  1/14 [numpy]\n",
      "    Uninstalling numpy-2.3.0:\n",
      "   -- -------------------------------------  1/14 [numpy]\n",
      "      Successfully uninstalled numpy-2.3.0\n",
      "   -- -------------------------------------  1/14 [numpy]\n",
      "   -- -------------------------------------  1/14 [numpy]\n",
      "   -- -------------------------------------  1/14 [numpy]\n",
      "   -- -------------------------------------  1/14 [numpy]\n",
      "   -- -------------------------------------  1/14 [numpy]\n",
      "   -- -------------------------------------  1/14 [numpy]\n",
      "   -- -------------------------------------  1/14 [numpy]\n",
      "   -- -------------------------------------  1/14 [numpy]\n",
      "   -- -------------------------------------  1/14 [numpy]\n",
      "   -- -------------------------------------  1/14 [numpy]\n",
      "   -- -------------------------------------  1/14 [numpy]\n",
      "   -- -------------------------------------  1/14 [numpy]\n",
      "   -- -------------------------------------  1/14 [numpy]\n",
      "   -- -------------------------------------  1/14 [numpy]\n",
      "   -- -------------------------------------  1/14 [numpy]\n",
      "   ----- ----------------------------------  2/14 [msgpack]\n",
      "   -------- -------------------------------  3/14 [llvmlite]\n",
      "   -------- -------------------------------  3/14 [llvmlite]\n",
      "   -------------- -------------------------  5/14 [joblib]\n",
      "   -------------- -------------------------  5/14 [joblib]\n",
      "   ---------------------- -----------------  8/14 [soundfile]\n",
      "   ---------------------------- ----------- 10/14 [numba]\n",
      "   ---------------------------- ----------- 10/14 [numba]\n",
      "   ---------------------------- ----------- 10/14 [numba]\n",
      "   ---------------------------- ----------- 10/14 [numba]\n",
      "   ---------------------------- ----------- 10/14 [numba]\n",
      "   ---------------------------- ----------- 10/14 [numba]\n",
      "   ---------------------------- ----------- 10/14 [numba]\n",
      "   ---------------------------- ----------- 10/14 [numba]\n",
      "   ---------------------------- ----------- 10/14 [numba]\n",
      "   ---------------------------- ----------- 10/14 [numba]\n",
      "   ---------------------------- ----------- 10/14 [numba]\n",
      "   ---------------------------- ----------- 10/14 [numba]\n",
      "   ---------------------------- ----------- 10/14 [numba]\n",
      "   ---------------------------- ----------- 10/14 [numba]\n",
      "   ---------------------------- ----------- 10/14 [numba]\n",
      "   ---------------------------- ----------- 10/14 [numba]\n",
      "   ---------------------------- ----------- 10/14 [numba]\n",
      "   ---------------------------- ----------- 10/14 [numba]\n",
      "   ------------------------------- -------- 11/14 [scikit-learn]\n",
      "   ------------------------------- -------- 11/14 [scikit-learn]\n",
      "   ------------------------------- -------- 11/14 [scikit-learn]\n",
      "   ------------------------------- -------- 11/14 [scikit-learn]\n",
      "   ------------------------------- -------- 11/14 [scikit-learn]\n",
      "   ------------------------------- -------- 11/14 [scikit-learn]\n",
      "   ------------------------------- -------- 11/14 [scikit-learn]\n",
      "   ------------------------------- -------- 11/14 [scikit-learn]\n",
      "   ------------------------------- -------- 11/14 [scikit-learn]\n",
      "   ------------------------------- -------- 11/14 [scikit-learn]\n",
      "   ------------------------------- -------- 11/14 [scikit-learn]\n",
      "   ------------------------------- -------- 11/14 [scikit-learn]\n",
      "   ------------------------------- -------- 11/14 [scikit-learn]\n",
      "   ------------------------------- -------- 11/14 [scikit-learn]\n",
      "   ------------------------------- -------- 11/14 [scikit-learn]\n",
      "   ------------------------------- -------- 11/14 [scikit-learn]\n",
      "   ------------------------------- -------- 11/14 [scikit-learn]\n",
      "   ------------------------------------- -- 13/14 [librosa]\n",
      "   ---------------------------------------- 14/14 [librosa]\n",
      "\n",
      "Successfully installed audioread-3.0.1 dtw-python-1.5.3 joblib-1.5.1 lazy_loader-0.4 librosa-0.11.0 llvmlite-0.44.0 msgpack-1.1.1 numba-0.61.2 numpy-2.2.6 pooch-1.8.2 scikit-learn-1.7.0 soundfile-0.13.1 soxr-0.5.0.post1 threadpoolctl-3.6.0\n"
     ]
    }
   ],
   "source": [
    "!pip install librosa numpy scipy dtw-python"
   ]
  },
  {
   "cell_type": "code",
   "execution_count": 37,
   "id": "f3360865-37e9-47ea-bb6b-b10f27ce9954",
   "metadata": {},
   "outputs": [
    {
     "name": "stdout",
     "output_type": "stream",
     "text": [
      "Collecting fastdtw\n",
      "  Downloading fastdtw-0.3.4.tar.gz (133 kB)\n",
      "  Preparing metadata (setup.py): started\n",
      "  Preparing metadata (setup.py): finished with status 'done'\n",
      "Requirement already satisfied: numpy in c:\\users\\user\\miniconda3\\envs\\developenv\\lib\\site-packages (from fastdtw) (2.2.6)\n",
      "Building wheels for collected packages: fastdtw\n",
      "  Building wheel for fastdtw (setup.py): started\n",
      "  Building wheel for fastdtw (setup.py): finished with status 'done'\n",
      "  Created wheel for fastdtw: filename=fastdtw-0.3.4-py3-none-any.whl size=3631 sha256=b14213d2335a0bcabfeef07924afba5faf86218a4b99f919da0c510fdcd66d16\n",
      "  Stored in directory: c:\\users\\user\\appdata\\local\\pip\\cache\\wheels\\ab\\d0\\26\\b82cb0f49ae73e5e6bba4e8462fff2c9851d7bd2ec64f8891e\n",
      "Successfully built fastdtw\n",
      "Installing collected packages: fastdtw\n",
      "Successfully installed fastdtw-0.3.4\n"
     ]
    },
    {
     "name": "stderr",
     "output_type": "stream",
     "text": [
      "  DEPRECATION: Building 'fastdtw' using the legacy setup.py bdist_wheel mechanism, which will be removed in a future version. pip 25.3 will enforce this behaviour change. A possible replacement is to use the standardized build interface by setting the `--use-pep517` option, (possibly combined with `--no-build-isolation`), or adding a `pyproject.toml` file to the source tree of 'fastdtw'. Discussion can be found at https://github.com/pypa/pip/issues/6334\n"
     ]
    }
   ],
   "source": [
    "!pip install fastdtw"
   ]
  },
  {
   "cell_type": "code",
   "execution_count": 38,
   "id": "ab7afb23-344c-4757-8dff-5688caafc185",
   "metadata": {},
   "outputs": [
    {
     "name": "stdout",
     "output_type": "stream",
     "text": [
      "Requirement already satisfied: librosa in c:\\users\\user\\miniconda3\\envs\\developenv\\lib\\site-packages (0.11.0)\n",
      "Requirement already satisfied: audioread>=2.1.9 in c:\\users\\user\\miniconda3\\envs\\developenv\\lib\\site-packages (from librosa) (3.0.1)\n",
      "Requirement already satisfied: numba>=0.51.0 in c:\\users\\user\\miniconda3\\envs\\developenv\\lib\\site-packages (from librosa) (0.61.2)\n",
      "Requirement already satisfied: numpy>=1.22.3 in c:\\users\\user\\miniconda3\\envs\\developenv\\lib\\site-packages (from librosa) (2.2.6)\n",
      "Requirement already satisfied: scipy>=1.6.0 in c:\\users\\user\\miniconda3\\envs\\developenv\\lib\\site-packages (from librosa) (1.15.3)\n",
      "Requirement already satisfied: scikit-learn>=1.1.0 in c:\\users\\user\\miniconda3\\envs\\developenv\\lib\\site-packages (from librosa) (1.7.0)\n",
      "Requirement already satisfied: joblib>=1.0 in c:\\users\\user\\miniconda3\\envs\\developenv\\lib\\site-packages (from librosa) (1.5.1)\n",
      "Requirement already satisfied: decorator>=4.3.0 in c:\\users\\user\\miniconda3\\envs\\developenv\\lib\\site-packages (from librosa) (5.1.1)\n",
      "Requirement already satisfied: soundfile>=0.12.1 in c:\\users\\user\\miniconda3\\envs\\developenv\\lib\\site-packages (from librosa) (0.13.1)\n",
      "Requirement already satisfied: pooch>=1.1 in c:\\users\\user\\miniconda3\\envs\\developenv\\lib\\site-packages (from librosa) (1.8.2)\n",
      "Requirement already satisfied: soxr>=0.3.2 in c:\\users\\user\\miniconda3\\envs\\developenv\\lib\\site-packages (from librosa) (0.5.0.post1)\n",
      "Requirement already satisfied: typing_extensions>=4.1.1 in c:\\users\\user\\miniconda3\\envs\\developenv\\lib\\site-packages (from librosa) (4.12.2)\n",
      "Requirement already satisfied: lazy_loader>=0.1 in c:\\users\\user\\miniconda3\\envs\\developenv\\lib\\site-packages (from librosa) (0.4)\n",
      "Requirement already satisfied: msgpack>=1.0 in c:\\users\\user\\miniconda3\\envs\\developenv\\lib\\site-packages (from librosa) (1.1.1)\n",
      "Requirement already satisfied: packaging in c:\\users\\user\\miniconda3\\envs\\developenv\\lib\\site-packages (from lazy_loader>=0.1->librosa) (24.2)\n",
      "Requirement already satisfied: llvmlite<0.45,>=0.44.0dev0 in c:\\users\\user\\miniconda3\\envs\\developenv\\lib\\site-packages (from numba>=0.51.0->librosa) (0.44.0)\n",
      "Requirement already satisfied: platformdirs>=2.5.0 in c:\\users\\user\\miniconda3\\envs\\developenv\\lib\\site-packages (from pooch>=1.1->librosa) (4.3.7)\n",
      "Requirement already satisfied: requests>=2.19.0 in c:\\users\\user\\miniconda3\\envs\\developenv\\lib\\site-packages (from pooch>=1.1->librosa) (2.32.3)\n",
      "Requirement already satisfied: charset-normalizer<4,>=2 in c:\\users\\user\\miniconda3\\envs\\developenv\\lib\\site-packages (from requests>=2.19.0->pooch>=1.1->librosa) (3.3.2)\n",
      "Requirement already satisfied: idna<4,>=2.5 in c:\\users\\user\\miniconda3\\envs\\developenv\\lib\\site-packages (from requests>=2.19.0->pooch>=1.1->librosa) (3.7)\n",
      "Requirement already satisfied: urllib3<3,>=1.21.1 in c:\\users\\user\\miniconda3\\envs\\developenv\\lib\\site-packages (from requests>=2.19.0->pooch>=1.1->librosa) (2.3.0)\n",
      "Requirement already satisfied: certifi>=2017.4.17 in c:\\users\\user\\miniconda3\\envs\\developenv\\lib\\site-packages (from requests>=2.19.0->pooch>=1.1->librosa) (2025.4.26)\n",
      "Requirement already satisfied: threadpoolctl>=3.1.0 in c:\\users\\user\\miniconda3\\envs\\developenv\\lib\\site-packages (from scikit-learn>=1.1.0->librosa) (3.6.0)\n",
      "Requirement already satisfied: cffi>=1.0 in c:\\users\\user\\miniconda3\\envs\\developenv\\lib\\site-packages (from soundfile>=0.12.1->librosa) (1.17.1)\n",
      "Requirement already satisfied: pycparser in c:\\users\\user\\miniconda3\\envs\\developenv\\lib\\site-packages (from cffi>=1.0->soundfile>=0.12.1->librosa) (2.21)\n"
     ]
    }
   ],
   "source": [
    "!pip install --upgrade librosa"
   ]
  },
  {
   "cell_type": "code",
   "execution_count": 40,
   "id": "3c1e41bd-3ad5-42e2-abd9-7f0046a7545d",
   "metadata": {},
   "outputs": [],
   "source": [
    "from fastdtw import fastdtw\n",
    "from scipy.spatial.distance import euclidean\n",
    "import numpy as np"
   ]
  },
  {
   "cell_type": "code",
   "execution_count": 41,
   "id": "f71c29bc-af6d-4fac-b8db-c9c0f1f6d94f",
   "metadata": {},
   "outputs": [],
   "source": [
    "\n",
    "def compute_mcd(mfcc_ref, mfcc_syn, use_dtw=True):\n",
    "    # 移除第 0 維（通常是能量）\n",
    "    mfcc_ref = mfcc_ref[1:]\n",
    "    mfcc_syn = mfcc_syn[1:]\n",
    "\n",
    "    if use_dtw:\n",
    "        # 使用 fastdtw 進行對齊（近似 DTW）\n",
    "        distance, path = fastdtw(mfcc_ref.T, mfcc_syn.T, dist=euclidean)\n",
    "\n",
    "        # 轉換 path 為對應 index\n",
    "        ref_aligned = mfcc_ref[:, [i for i, j in path]]\n",
    "        syn_aligned = mfcc_syn[:, [j for i, j in path]]\n",
    "    else:\n",
    "        # 使用最小長度對齊\n",
    "        min_len = min(mfcc_ref.shape[1], mfcc_syn.shape[1])\n",
    "        ref_aligned = mfcc_ref[:, :min_len]\n",
    "        syn_aligned = mfcc_syn[:, :min_len]\n",
    "\n",
    "    # 計算 MCD\n",
    "    diff = ref_aligned - syn_aligned\n",
    "    mcd = (10.0 / np.log(10)) * np.sqrt((diff ** 2).sum(axis=0).mean())\n",
    "\n",
    "    return mcd"
   ]
  },
  {
   "cell_type": "code",
   "execution_count": 56,
   "id": "dfae1fbb-706e-4935-8264-63de594b26b4",
   "metadata": {},
   "outputs": [],
   "source": [
    "# 讀取語音檔\n",
    "ref_audio, sr = librosa.load(\"reference.wav\", sr=None)\n",
    "syn_audio, _ = librosa.load(\"synthesized.wav\", sr=sr)"
   ]
  },
  {
   "cell_type": "code",
   "execution_count": 57,
   "id": "988a2ed9-b875-4554-9d53-1c4615a7aa69",
   "metadata": {},
   "outputs": [],
   "source": [
    "mfcc_ref = librosa.feature.mfcc(y=ref_audio, sr=sr, n_mfcc=13)\n",
    "mfcc_syn = librosa.feature.mfcc(y=syn_audio, sr=sr, n_mfcc=13)"
   ]
  },
  {
   "cell_type": "code",
   "execution_count": 58,
   "id": "00063a75-6e2a-4af3-870b-44fc5d56a566",
   "metadata": {},
   "outputs": [],
   "source": [
    "# 計算 MCD\n",
    "mcd_value = compute_mcd(mfcc_ref, mfcc_syn)"
   ]
  },
  {
   "cell_type": "code",
   "execution_count": 59,
   "id": "9140444d-30cb-4c8d-99ad-39cc06ef9f20",
   "metadata": {},
   "outputs": [],
   "source": [
    "# 品質說明\n",
    "def quality_description(mcd):\n",
    "    if mcd > 10:\n",
    "        return \"❌ 非常差：MCD > 10\"\n",
    "    elif mcd > 6:\n",
    "        return \"⚠️ 尚可：6 < MCD ≤ 10\"\n",
    "    elif mcd > 4:\n",
    "        return \"✅ 良好：4 < MCD ≤ 6\"\n",
    "    else:\n",
    "        return \"🌟 非常高品質：MCD ≤ 4\""
   ]
  },
  {
   "cell_type": "code",
   "execution_count": 60,
   "id": "51f80412-9415-4f34-9f11-8f55de04d158",
   "metadata": {},
   "outputs": [
    {
     "name": "stdout",
     "output_type": "stream",
     "text": [
      "MCD: 215.06\n",
      "品質評估: ❌ 非常差：MCD > 10\n"
     ]
    }
   ],
   "source": [
    "print(f\"MCD: {mcd_value:.2f}\")\n",
    "print(\"品質評估:\", quality_description(mcd_value))"
   ]
  },
  {
   "cell_type": "markdown",
   "id": "bb4100ff-2f38-49d6-b2cb-934ff80be619",
   "metadata": {},
   "source": [
    "## Compare same audio"
   ]
  },
  {
   "cell_type": "code",
   "execution_count": 61,
   "id": "1fb38b07-5672-4859-9d25-156defcbb57a",
   "metadata": {},
   "outputs": [],
   "source": [
    "ref_audio, sr = librosa.load(\"reference.wav\", sr=None)\n",
    "syn_audio, _ = librosa.load(\"reference.wav\", sr=sr)"
   ]
  },
  {
   "cell_type": "code",
   "execution_count": 62,
   "id": "484257b3-a6bb-4105-ac11-267c8b186556",
   "metadata": {},
   "outputs": [],
   "source": [
    "mfcc_ref = librosa.feature.mfcc(y=ref_audio, sr=sr, n_mfcc=13).astype(np.float64)\n",
    "mfcc_syn = librosa.feature.mfcc(y=syn_audio, sr=sr, n_mfcc=13).astype(np.float64)"
   ]
  },
  {
   "cell_type": "code",
   "execution_count": 63,
   "id": "a778031d-e17f-4e3d-8e66-b3989aaa2197",
   "metadata": {},
   "outputs": [],
   "source": [
    "mcd_value = compute_mcd(mfcc_ref, mfcc_syn)"
   ]
  },
  {
   "cell_type": "code",
   "execution_count": 64,
   "id": "a3fc9cf9-f0d2-48e3-a4f9-1191b906bed8",
   "metadata": {},
   "outputs": [
    {
     "name": "stdout",
     "output_type": "stream",
     "text": [
      "MCD: 0.00\n",
      "品質評估: 🌟 非常高品質：MCD ≤ 4\n"
     ]
    }
   ],
   "source": [
    "print(f\"MCD: {mcd_value:.2f}\")\n",
    "print(\"品質評估:\", quality_description(mcd_value))"
   ]
  },
  {
   "cell_type": "code",
   "execution_count": null,
   "id": "f22d7e6a-3772-4a63-85da-dfb29b736228",
   "metadata": {},
   "outputs": [],
   "source": []
  }
 ],
 "metadata": {
  "kernelspec": {
   "display_name": "Python 3 (ipykernel)",
   "language": "python",
   "name": "python3"
  },
  "language_info": {
   "codemirror_mode": {
    "name": "ipython",
    "version": 3
   },
   "file_extension": ".py",
   "mimetype": "text/x-python",
   "name": "python",
   "nbconvert_exporter": "python",
   "pygments_lexer": "ipython3",
   "version": "3.12.11"
  }
 },
 "nbformat": 4,
 "nbformat_minor": 5
}
