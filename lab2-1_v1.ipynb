{
 "cells": [
  {
   "cell_type": "markdown",
   "id": "07fbc2c8-241f-41ae-8a1c-649c84380b3b",
   "metadata": {},
   "source": [
    "## Without Threading"
   ]
  },
  {
   "cell_type": "code",
   "execution_count": 4,
   "id": "68c0ed7b-bcac-40b5-99e2-6cb1eca7408d",
   "metadata": {},
   "outputs": [
    {
     "name": "stdout",
     "output_type": "stream",
     "text": [
      "DoA: 1\n",
      "DoA: 2\n",
      "DoA: 3\n",
      "DoA: 4\n",
      "DoA: 5\n",
      "DoA: 6\n",
      "DoA: 7\n",
      "DoA: 8\n",
      "DoA: 9\n",
      "DoA: 10\n",
      "DoB: 10\n",
      "DoB: 9\n",
      "DoB: 8\n",
      "DoB: 7\n",
      "DoB: 6\n",
      "DoB: 5\n",
      "DoB: 4\n",
      "DoB: 3\n",
      "DoB: 2\n",
      "DoB: 1\n"
     ]
    }
   ],
   "source": [
    "import time\n",
    "\n",
    "def do_a():\n",
    "    i = 0\n",
    "    while i<10:\n",
    "        i = i + 1\n",
    "        time.sleep(0.1)\n",
    "        print('DoA:', i)\n",
    "\n",
    "def do_b():\n",
    "    i = 10\n",
    "    while i>0:\n",
    "        print('DoB:', i)\n",
    "        i = i - 1\n",
    "        time.sleep(0.1)\n",
    "\n",
    "do_a()    # 先執行 do_a()\n",
    "do_b()    # do_a() 後執行 do_b()"
   ]
  },
  {
   "cell_type": "markdown",
   "id": "dc4e05c5-c252-4812-8702-61afa9338199",
   "metadata": {},
   "source": [
    "## With threading"
   ]
  },
  {
   "cell_type": "code",
   "execution_count": 7,
   "id": "1ec7aa28-61c3-4230-9697-705055d03ad4",
   "metadata": {},
   "outputs": [
    {
     "name": "stdout",
     "output_type": "stream",
     "text": [
      "DoB: 10\n",
      "DoB:DoA: 1\n",
      " 9\n",
      "DoB:DoA: 2\n",
      " 8\n",
      "DoA: 3\n",
      "DoB: 7\n",
      "DoB: 6\n",
      "DoA: 4\n",
      "DoA: 5\n",
      "DoB: 5\n",
      "DoB:DoA: 6\n",
      " 4\n",
      "DoB: 3\n",
      "DoA: 7\n",
      "DoB:DoA: 8\n",
      " 2\n",
      "DoA: 9\n",
      "DoB: 1\n",
      "DoA: 10\n"
     ]
    }
   ],
   "source": [
    "import threading\n",
    "import time\n",
    "\n",
    "def do_a_t():\n",
    "    i = 0\n",
    "    while i<10:\n",
    "        i = i + 1\n",
    "        time.sleep(0.1)\n",
    "        print('DoA:', i)\n",
    "\n",
    "def do_b_t():\n",
    "    i = 10\n",
    "    while i>0:\n",
    "        print('DoB:', i)\n",
    "        i = i - 1\n",
    "        time.sleep(0.1)\n",
    "\n",
    "ta = threading.Thread(target=do_a_t)  # 建立執行緒\n",
    "tb = threading.Thread(target=do_b_t)  # 建立執行緒\n",
    "\n",
    "ta.start()  # 啟用執行緒\n",
    "tb.start()  # 啟用執行緒"
   ]
  },
  {
   "cell_type": "markdown",
   "id": "4cb2e276-f9e8-4143-bef5-4d99674724c0",
   "metadata": {},
   "source": [
    "## With Lock Control"
   ]
  },
  {
   "cell_type": "code",
   "execution_count": 13,
   "id": "6cf10093-69a5-4555-8014-9ade942b52f6",
   "metadata": {},
   "outputs": [
    {
     "name": "stdout",
     "output_type": "stream",
     "text": [
      "DoA: 1\n",
      "DoA: 2\n",
      "DoA: 3\n",
      "DoA: 4\n",
      "DoA: 5\n",
      "DoA: 6\n",
      "DoA: 7\n",
      "DoA: 8\n",
      "DoA: 9\n",
      "DoA: 10\n",
      "DoB: 100\n",
      "DoA: 11\n",
      "DoA:DoB: 200\n",
      " 12\n",
      "DoB: 300\n",
      "DoA: 13\n",
      "DoA: 14\n",
      "DoB: 400\n",
      "DoB:DoA: 15\n",
      " 500\n",
      "DoA: 16\n",
      "DoB: 600\n",
      "DoB:DoA: 17\n",
      " 700\n",
      "DoB: 800\n",
      "DoA: 18\n",
      "DoB:DoA: 19\n",
      " 900\n",
      "DoB: 1000\n",
      "DoA: 20\n",
      "DoA: 21\n",
      "DoA: 22\n",
      "DoA: 23\n",
      "DoA: 24\n",
      "DoA: 25\n",
      "DoA: 26\n",
      "DoA: 27\n",
      "DoA: 28\n",
      "DoA: 29\n",
      "DoA: 30\n"
     ]
    }
   ],
   "source": [
    "def do_a_t2():\n",
    "    lock.acquire()\n",
    "    i = 0\n",
    "    while i<30:\n",
    "        i = i + 1\n",
    "        time.sleep(0.1)\n",
    "        print('DoA:', i)\n",
    "        if i==10:\n",
    "            lock.release()  # i 等於 10 時解除鎖定\n",
    "\n",
    "def do_b_t2():\n",
    "    lock.acquire()\n",
    "    i = 0\n",
    "    while i<1000:\n",
    "        i = i + 100\n",
    "        time.sleep(0.1)\n",
    "        print('DoB:', i)\n",
    "    lock.release()\n",
    "\n",
    "lock = threading.Lock()         # 建立 Lock\n",
    "\n",
    "t2a = threading.Thread(target=do_a_t2)\n",
    "t2b = threading.Thread(target=do_b_t2)\n",
    "\n",
    "t2a.start()\n",
    "t2b.start()"
   ]
  },
  {
   "cell_type": "code",
   "execution_count": null,
   "id": "d9a3ab78-3f99-4375-a90f-c3e3dc1d61e6",
   "metadata": {},
   "outputs": [],
   "source": []
  }
 ],
 "metadata": {
  "kernelspec": {
   "display_name": "Python 3 (ipykernel)",
   "language": "python",
   "name": "python3"
  },
  "language_info": {
   "codemirror_mode": {
    "name": "ipython",
    "version": 3
   },
   "file_extension": ".py",
   "mimetype": "text/x-python",
   "name": "python",
   "nbconvert_exporter": "python",
   "pygments_lexer": "ipython3",
   "version": "3.12.11"
  }
 },
 "nbformat": 4,
 "nbformat_minor": 5
}
