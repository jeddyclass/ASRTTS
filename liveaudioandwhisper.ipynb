{
 "cells": [
  {
   "cell_type": "code",
   "execution_count": 2,
   "id": "baf91d74-a35f-4319-91b9-1db92831bb19",
   "metadata": {},
   "outputs": [
    {
     "name": "stdout",
     "output_type": "stream",
     "text": [
      "Collecting flask\n",
      "  Downloading flask-3.1.1-py3-none-any.whl.metadata (3.0 kB)\n",
      "Collecting blinker>=1.9.0 (from flask)\n",
      "  Using cached blinker-1.9.0-py3-none-any.whl.metadata (1.6 kB)\n",
      "Collecting click>=8.1.3 (from flask)\n",
      "  Downloading click-8.2.1-py3-none-any.whl.metadata (2.5 kB)\n",
      "Collecting itsdangerous>=2.2.0 (from flask)\n",
      "  Using cached itsdangerous-2.2.0-py3-none-any.whl.metadata (1.9 kB)\n",
      "Requirement already satisfied: jinja2>=3.1.2 in c:\\users\\950207\\anaconda3\\envs\\gptcode\\lib\\site-packages (from flask) (3.1.6)\n",
      "Requirement already satisfied: markupsafe>=2.1.1 in c:\\users\\950207\\anaconda3\\envs\\gptcode\\lib\\site-packages (from flask) (3.0.2)\n",
      "Collecting werkzeug>=3.1.0 (from flask)\n",
      "  Using cached werkzeug-3.1.3-py3-none-any.whl.metadata (3.7 kB)\n",
      "Requirement already satisfied: colorama in c:\\users\\950207\\anaconda3\\envs\\gptcode\\lib\\site-packages (from click>=8.1.3->flask) (0.4.6)\n",
      "Downloading flask-3.1.1-py3-none-any.whl (103 kB)\n",
      "Using cached blinker-1.9.0-py3-none-any.whl (8.5 kB)\n",
      "Downloading click-8.2.1-py3-none-any.whl (102 kB)\n",
      "Using cached itsdangerous-2.2.0-py3-none-any.whl (16 kB)\n",
      "Using cached werkzeug-3.1.3-py3-none-any.whl (224 kB)\n",
      "Installing collected packages: werkzeug, itsdangerous, click, blinker, flask\n",
      "\n",
      "   ---------------------------------------- 0/5 [werkzeug]\n",
      "   ---------------------------------------- 0/5 [werkzeug]\n",
      "   ---------------------------------------- 0/5 [werkzeug]\n",
      "   ---------------------------------------- 0/5 [werkzeug]\n",
      "   ---------------------------------------- 0/5 [werkzeug]\n",
      "   -------- ------------------------------- 1/5 [itsdangerous]\n",
      "   ---------------- ----------------------- 2/5 [click]\n",
      "   ------------------------ --------------- 3/5 [blinker]\n",
      "   -------------------------------- ------- 4/5 [flask]\n",
      "   -------------------------------- ------- 4/5 [flask]\n",
      "   -------------------------------- ------- 4/5 [flask]\n",
      "   -------------------------------- ------- 4/5 [flask]\n",
      "   -------------------------------- ------- 4/5 [flask]\n",
      "   -------------------------------- ------- 4/5 [flask]\n",
      "   -------------------------------- ------- 4/5 [flask]\n",
      "   -------------------------------- ------- 4/5 [flask]\n",
      "   -------------------------------- ------- 4/5 [flask]\n",
      "   -------------------------------- ------- 4/5 [flask]\n",
      "   ---------------------------------------- 5/5 [flask]\n",
      "\n",
      "Successfully installed blinker-1.9.0 click-8.2.1 flask-3.1.1 itsdangerous-2.2.0 werkzeug-3.1.3\n"
     ]
    }
   ],
   "source": [
    "!pip install flask"
   ]
  },
  {
   "cell_type": "code",
   "execution_count": 4,
   "id": "04b719ba-2f09-4ce4-bba4-0468452f923c",
   "metadata": {},
   "outputs": [
    {
     "name": "stdout",
     "output_type": "stream",
     "text": [
      "Collecting soundfile\n",
      "  Downloading soundfile-0.13.1-py2.py3-none-win_amd64.whl.metadata (16 kB)\n",
      "Requirement already satisfied: cffi>=1.0 in c:\\users\\950207\\anaconda3\\envs\\gptcode\\lib\\site-packages (from soundfile) (1.17.1)\n",
      "Requirement already satisfied: numpy in c:\\users\\950207\\anaconda3\\envs\\gptcode\\lib\\site-packages (from soundfile) (2.2.6)\n",
      "Requirement already satisfied: pycparser in c:\\users\\950207\\anaconda3\\envs\\gptcode\\lib\\site-packages (from cffi>=1.0->soundfile) (2.21)\n",
      "Downloading soundfile-0.13.1-py2.py3-none-win_amd64.whl (1.0 MB)\n",
      "   ---------------------------------------- 0.0/1.0 MB ? eta -:--:--\n",
      "   ---------------------------------------- 0.0/1.0 MB ? eta -:--:--\n",
      "   ---------- ----------------------------- 0.3/1.0 MB ? eta -:--:--\n",
      "   ---------------------------------------- 1.0/1.0 MB 2.8 MB/s eta 0:00:00\n",
      "Installing collected packages: soundfile\n",
      "Successfully installed soundfile-0.13.1\n"
     ]
    }
   ],
   "source": [
    "!pip install soundfile"
   ]
  },
  {
   "cell_type": "code",
   "execution_count": 5,
   "id": "8cfaf1d1-aaec-4b98-9cfc-b078e855f078",
   "metadata": {},
   "outputs": [],
   "source": [
    "# Cell 1: Import libraries\n",
    "import os\n",
    "import threading\n",
    "from flask import Flask, request, jsonify\n",
    "from IPython.display import display, Javascript\n",
    "import time\n",
    "import soundfile as sf\n",
    "import numpy as np\n",
    "import tempfile\n",
    "\n",
    "# Optional: Whisper local setup\n",
    "import whisper\n",
    "model = whisper.load_model(\"base\")  # or \"small\", \"medium\", etc.\n"
   ]
  },
  {
   "cell_type": "code",
   "execution_count": 6,
   "id": "f5068453-20fe-42df-8625-8ed8b574768b",
   "metadata": {},
   "outputs": [],
   "source": [
    "# Cell 2: Flask app setup\n",
    "app = Flask(__name__)\n",
    "AUDIO_BUFFER = []  # store chunks of raw bytes\n",
    "\n",
    "@app.route(\"/upload\", methods=[\"POST\"])\n",
    "def upload():\n",
    "    global AUDIO_BUFFER\n",
    "    audio_chunk = request.data\n",
    "    AUDIO_BUFFER.append(audio_chunk)\n",
    "    return jsonify({\"status\": \"received\", \"length\": len(audio_chunk)})\n"
   ]
  },
  {
   "cell_type": "code",
   "execution_count": 7,
   "id": "7798b92c-71d2-4f06-87a8-9e18770d8bde",
   "metadata": {},
   "outputs": [
    {
     "name": "stdout",
     "output_type": "stream",
     "text": [
      "Flask server started on http://localhost:5001\n",
      " * Serving Flask app '__main__'\n",
      " * Debug mode: off\n"
     ]
    },
    {
     "name": "stderr",
     "output_type": "stream",
     "text": [
      "WARNING: This is a development server. Do not use it in a production deployment. Use a production WSGI server instead.\n",
      " * Running on http://127.0.0.1:5001\n",
      "Press CTRL+C to quit\n",
      "127.0.0.1 - - [13/Jun/2025 16:35:01] \"POST /upload HTTP/1.1\" 200 -\n",
      "127.0.0.1 - - [13/Jun/2025 16:35:02] \"POST /upload HTTP/1.1\" 200 -\n",
      "127.0.0.1 - - [13/Jun/2025 16:35:03] \"POST /upload HTTP/1.1\" 200 -\n",
      "127.0.0.1 - - [13/Jun/2025 16:35:04] \"POST /upload HTTP/1.1\" 200 -\n",
      "127.0.0.1 - - [13/Jun/2025 16:35:05] \"POST /upload HTTP/1.1\" 200 -\n",
      "127.0.0.1 - - [13/Jun/2025 16:35:06] \"POST /upload HTTP/1.1\" 200 -\n",
      "127.0.0.1 - - [13/Jun/2025 16:35:07] \"POST /upload HTTP/1.1\" 200 -\n",
      "127.0.0.1 - - [13/Jun/2025 16:35:08] \"POST /upload HTTP/1.1\" 200 -\n",
      "127.0.0.1 - - [13/Jun/2025 16:35:09] \"POST /upload HTTP/1.1\" 200 -\n",
      "127.0.0.1 - - [13/Jun/2025 16:35:10] \"POST /upload HTTP/1.1\" 200 -\n",
      "127.0.0.1 - - [13/Jun/2025 16:35:12] \"POST /upload HTTP/1.1\" 200 -\n",
      "127.0.0.1 - - [13/Jun/2025 16:35:12] \"POST /upload HTTP/1.1\" 200 -\n",
      "127.0.0.1 - - [13/Jun/2025 16:35:14] \"POST /upload HTTP/1.1\" 200 -\n",
      "127.0.0.1 - - [13/Jun/2025 16:35:14] \"POST /upload HTTP/1.1\" 200 -\n",
      "127.0.0.1 - - [13/Jun/2025 16:35:16] \"POST /upload HTTP/1.1\" 200 -\n",
      "127.0.0.1 - - [13/Jun/2025 16:35:16] \"POST /upload HTTP/1.1\" 200 -\n",
      "127.0.0.1 - - [13/Jun/2025 16:35:18] \"POST /upload HTTP/1.1\" 200 -\n",
      "127.0.0.1 - - [13/Jun/2025 16:35:18] \"POST /upload HTTP/1.1\" 200 -\n",
      "127.0.0.1 - - [13/Jun/2025 16:35:20] \"POST /upload HTTP/1.1\" 200 -\n",
      "127.0.0.1 - - [13/Jun/2025 16:35:20] \"POST /upload HTTP/1.1\" 200 -\n",
      "127.0.0.1 - - [13/Jun/2025 16:35:22] \"POST /upload HTTP/1.1\" 200 -\n",
      "127.0.0.1 - - [13/Jun/2025 16:35:22] \"POST /upload HTTP/1.1\" 200 -\n",
      "127.0.0.1 - - [13/Jun/2025 16:35:24] \"POST /upload HTTP/1.1\" 200 -\n",
      "127.0.0.1 - - [13/Jun/2025 16:35:24] \"POST /upload HTTP/1.1\" 200 -\n",
      "127.0.0.1 - - [13/Jun/2025 16:35:26] \"POST /upload HTTP/1.1\" 200 -\n",
      "127.0.0.1 - - [13/Jun/2025 16:35:26] \"POST /upload HTTP/1.1\" 200 -\n",
      "127.0.0.1 - - [13/Jun/2025 16:35:28] \"POST /upload HTTP/1.1\" 200 -\n",
      "127.0.0.1 - - [13/Jun/2025 16:35:29] \"POST /upload HTTP/1.1\" 200 -\n",
      "127.0.0.1 - - [13/Jun/2025 16:35:30] \"POST /upload HTTP/1.1\" 200 -\n",
      "127.0.0.1 - - [13/Jun/2025 16:35:31] \"POST /upload HTTP/1.1\" 200 -\n",
      "127.0.0.1 - - [13/Jun/2025 16:35:32] \"POST /upload HTTP/1.1\" 200 -\n",
      "127.0.0.1 - - [13/Jun/2025 16:35:33] \"POST /upload HTTP/1.1\" 200 -\n",
      "127.0.0.1 - - [13/Jun/2025 16:35:34] \"POST /upload HTTP/1.1\" 200 -\n",
      "127.0.0.1 - - [13/Jun/2025 16:35:35] \"POST /upload HTTP/1.1\" 200 -\n",
      "127.0.0.1 - - [13/Jun/2025 16:35:36] \"POST /upload HTTP/1.1\" 200 -\n",
      "127.0.0.1 - - [13/Jun/2025 16:35:37] \"POST /upload HTTP/1.1\" 200 -\n",
      "127.0.0.1 - - [13/Jun/2025 16:35:38] \"POST /upload HTTP/1.1\" 200 -\n",
      "127.0.0.1 - - [13/Jun/2025 16:35:39] \"POST /upload HTTP/1.1\" 200 -\n",
      "127.0.0.1 - - [13/Jun/2025 16:35:40] \"POST /upload HTTP/1.1\" 200 -\n",
      "127.0.0.1 - - [13/Jun/2025 16:35:41] \"POST /upload HTTP/1.1\" 200 -\n",
      "127.0.0.1 - - [13/Jun/2025 16:35:42] \"POST /upload HTTP/1.1\" 200 -\n",
      "127.0.0.1 - - [13/Jun/2025 16:35:43] \"POST /upload HTTP/1.1\" 200 -\n",
      "127.0.0.1 - - [13/Jun/2025 16:35:44] \"POST /upload HTTP/1.1\" 200 -\n",
      "127.0.0.1 - - [13/Jun/2025 16:35:45] \"POST /upload HTTP/1.1\" 200 -\n",
      "127.0.0.1 - - [13/Jun/2025 16:35:46] \"POST /upload HTTP/1.1\" 200 -\n",
      "127.0.0.1 - - [13/Jun/2025 16:35:47] \"POST /upload HTTP/1.1\" 200 -\n",
      "127.0.0.1 - - [13/Jun/2025 16:35:48] \"POST /upload HTTP/1.1\" 200 -\n",
      "127.0.0.1 - - [13/Jun/2025 16:35:49] \"POST /upload HTTP/1.1\" 200 -\n",
      "127.0.0.1 - - [13/Jun/2025 16:35:50] \"POST /upload HTTP/1.1\" 200 -\n",
      "127.0.0.1 - - [13/Jun/2025 16:35:51] \"POST /upload HTTP/1.1\" 200 -\n",
      "127.0.0.1 - - [13/Jun/2025 16:35:52] \"POST /upload HTTP/1.1\" 200 -\n",
      "127.0.0.1 - - [13/Jun/2025 16:35:53] \"POST /upload HTTP/1.1\" 200 -\n",
      "127.0.0.1 - - [13/Jun/2025 16:35:54] \"POST /upload HTTP/1.1\" 200 -\n",
      "127.0.0.1 - - [13/Jun/2025 16:35:55] \"POST /upload HTTP/1.1\" 200 -\n",
      "127.0.0.1 - - [13/Jun/2025 16:35:56] \"POST /upload HTTP/1.1\" 200 -\n",
      "127.0.0.1 - - [13/Jun/2025 16:35:57] \"POST /upload HTTP/1.1\" 200 -\n",
      "127.0.0.1 - - [13/Jun/2025 16:35:58] \"POST /upload HTTP/1.1\" 200 -\n",
      "127.0.0.1 - - [13/Jun/2025 16:35:59] \"POST /upload HTTP/1.1\" 200 -\n",
      "127.0.0.1 - - [13/Jun/2025 16:36:00] \"POST /upload HTTP/1.1\" 200 -\n",
      "127.0.0.1 - - [13/Jun/2025 16:36:01] \"POST /upload HTTP/1.1\" 200 -\n",
      "127.0.0.1 - - [13/Jun/2025 16:36:02] \"POST /upload HTTP/1.1\" 200 -\n",
      "127.0.0.1 - - [13/Jun/2025 16:36:03] \"POST /upload HTTP/1.1\" 200 -\n",
      "127.0.0.1 - - [13/Jun/2025 16:36:05] \"POST /upload HTTP/1.1\" 200 -\n",
      "127.0.0.1 - - [13/Jun/2025 16:36:05] \"POST /upload HTTP/1.1\" 200 -\n",
      "127.0.0.1 - - [13/Jun/2025 16:36:07] \"POST /upload HTTP/1.1\" 200 -\n",
      "127.0.0.1 - - [13/Jun/2025 16:36:07] \"POST /upload HTTP/1.1\" 200 -\n",
      "127.0.0.1 - - [13/Jun/2025 16:36:09] \"POST /upload HTTP/1.1\" 200 -\n",
      "127.0.0.1 - - [13/Jun/2025 16:36:09] \"POST /upload HTTP/1.1\" 200 -\n",
      "127.0.0.1 - - [13/Jun/2025 16:36:11] \"POST /upload HTTP/1.1\" 200 -\n",
      "127.0.0.1 - - [13/Jun/2025 16:36:11] \"POST /upload HTTP/1.1\" 200 -\n",
      "127.0.0.1 - - [13/Jun/2025 16:36:13] \"POST /upload HTTP/1.1\" 200 -\n",
      "127.0.0.1 - - [13/Jun/2025 16:36:13] \"POST /upload HTTP/1.1\" 200 -\n",
      "127.0.0.1 - - [13/Jun/2025 16:36:15] \"POST /upload HTTP/1.1\" 200 -\n",
      "127.0.0.1 - - [13/Jun/2025 16:36:15] \"POST /upload HTTP/1.1\" 200 -\n",
      "127.0.0.1 - - [13/Jun/2025 16:36:17] \"POST /upload HTTP/1.1\" 200 -\n",
      "127.0.0.1 - - [13/Jun/2025 16:36:17] \"POST /upload HTTP/1.1\" 200 -\n",
      "127.0.0.1 - - [13/Jun/2025 16:36:19] \"POST /upload HTTP/1.1\" 200 -\n",
      "127.0.0.1 - - [13/Jun/2025 16:36:20] \"POST /upload HTTP/1.1\" 200 -\n",
      "127.0.0.1 - - [13/Jun/2025 16:36:21] \"POST /upload HTTP/1.1\" 200 -\n",
      "127.0.0.1 - - [13/Jun/2025 16:36:22] \"POST /upload HTTP/1.1\" 200 -\n",
      "127.0.0.1 - - [13/Jun/2025 16:36:23] \"POST /upload HTTP/1.1\" 200 -\n",
      "127.0.0.1 - - [13/Jun/2025 16:36:24] \"POST /upload HTTP/1.1\" 200 -\n",
      "127.0.0.1 - - [13/Jun/2025 16:36:25] \"POST /upload HTTP/1.1\" 200 -\n",
      "127.0.0.1 - - [13/Jun/2025 16:36:26] \"POST /upload HTTP/1.1\" 200 -\n",
      "127.0.0.1 - - [13/Jun/2025 16:36:27] \"POST /upload HTTP/1.1\" 200 -\n",
      "127.0.0.1 - - [13/Jun/2025 16:36:28] \"POST /upload HTTP/1.1\" 200 -\n",
      "127.0.0.1 - - [13/Jun/2025 16:36:29] \"POST /upload HTTP/1.1\" 200 -\n",
      "127.0.0.1 - - [13/Jun/2025 16:36:30] \"POST /upload HTTP/1.1\" 200 -\n",
      "127.0.0.1 - - [13/Jun/2025 16:36:31] \"POST /upload HTTP/1.1\" 200 -\n",
      "127.0.0.1 - - [13/Jun/2025 16:36:32] \"POST /upload HTTP/1.1\" 200 -\n",
      "127.0.0.1 - - [13/Jun/2025 16:36:33] \"POST /upload HTTP/1.1\" 200 -\n",
      "127.0.0.1 - - [13/Jun/2025 16:36:34] \"POST /upload HTTP/1.1\" 200 -\n",
      "127.0.0.1 - - [13/Jun/2025 16:36:35] \"POST /upload HTTP/1.1\" 200 -\n",
      "127.0.0.1 - - [13/Jun/2025 16:36:36] \"POST /upload HTTP/1.1\" 200 -\n",
      "127.0.0.1 - - [13/Jun/2025 16:36:37] \"POST /upload HTTP/1.1\" 200 -\n",
      "127.0.0.1 - - [13/Jun/2025 16:36:38] \"POST /upload HTTP/1.1\" 200 -\n",
      "127.0.0.1 - - [13/Jun/2025 16:36:39] \"POST /upload HTTP/1.1\" 200 -\n",
      "127.0.0.1 - - [13/Jun/2025 16:36:40] \"POST /upload HTTP/1.1\" 200 -\n",
      "127.0.0.1 - - [13/Jun/2025 16:36:41] \"POST /upload HTTP/1.1\" 200 -\n",
      "127.0.0.1 - - [13/Jun/2025 16:36:42] \"POST /upload HTTP/1.1\" 200 -\n",
      "127.0.0.1 - - [13/Jun/2025 16:36:43] \"POST /upload HTTP/1.1\" 200 -\n",
      "127.0.0.1 - - [13/Jun/2025 16:36:44] \"POST /upload HTTP/1.1\" 200 -\n",
      "127.0.0.1 - - [13/Jun/2025 16:36:45] \"POST /upload HTTP/1.1\" 200 -\n",
      "127.0.0.1 - - [13/Jun/2025 16:36:46] \"POST /upload HTTP/1.1\" 200 -\n",
      "127.0.0.1 - - [13/Jun/2025 16:36:47] \"POST /upload HTTP/1.1\" 200 -\n",
      "127.0.0.1 - - [13/Jun/2025 16:36:48] \"POST /upload HTTP/1.1\" 200 -\n",
      "127.0.0.1 - - [13/Jun/2025 16:36:49] \"POST /upload HTTP/1.1\" 200 -\n",
      "127.0.0.1 - - [13/Jun/2025 16:36:50] \"POST /upload HTTP/1.1\" 200 -\n",
      "127.0.0.1 - - [13/Jun/2025 16:36:51] \"POST /upload HTTP/1.1\" 200 -\n",
      "127.0.0.1 - - [13/Jun/2025 16:36:52] \"POST /upload HTTP/1.1\" 200 -\n",
      "127.0.0.1 - - [13/Jun/2025 16:36:54] \"POST /upload HTTP/1.1\" 200 -\n",
      "127.0.0.1 - - [13/Jun/2025 16:36:54] \"POST /upload HTTP/1.1\" 200 -\n",
      "127.0.0.1 - - [13/Jun/2025 16:36:56] \"POST /upload HTTP/1.1\" 200 -\n",
      "127.0.0.1 - - [13/Jun/2025 16:36:56] \"POST /upload HTTP/1.1\" 200 -\n",
      "127.0.0.1 - - [13/Jun/2025 16:36:58] \"POST /upload HTTP/1.1\" 200 -\n",
      "127.0.0.1 - - [13/Jun/2025 16:36:58] \"POST /upload HTTP/1.1\" 200 -\n",
      "127.0.0.1 - - [13/Jun/2025 16:37:00] \"POST /upload HTTP/1.1\" 200 -\n",
      "127.0.0.1 - - [13/Jun/2025 16:37:00] \"POST /upload HTTP/1.1\" 200 -\n"
     ]
    }
   ],
   "source": [
    "# Cell 3: Run Flask server in background\n",
    "def run_flask():\n",
    "    app.run(port=5001)\n",
    "\n",
    "thread = threading.Thread(target=run_flask)\n",
    "thread.daemon = True\n",
    "thread.start()\n",
    "print(\"Flask server started on http://localhost:5001\")\n"
   ]
  },
  {
   "cell_type": "code",
   "execution_count": 8,
   "id": "f330ac5e-729c-44f8-983a-758c799b1e34",
   "metadata": {},
   "outputs": [
    {
     "data": {
      "application/javascript": [
       "\n",
       "const CHUNK_TIME = 1000; // ms\n",
       "\n",
       "let mediaRecorder;\n",
       "let audioChunks = [];\n",
       "\n",
       "async function startRecording() {\n",
       "    const stream = await navigator.mediaDevices.getUserMedia({ audio: true });\n",
       "    mediaRecorder = new MediaRecorder(stream);\n",
       "\n",
       "    mediaRecorder.ondataavailable = async e => {\n",
       "        const blob = e.data;\n",
       "        const arrayBuffer = await blob.arrayBuffer();\n",
       "        fetch(\"http://localhost:5001/upload\", {\n",
       "            method: \"POST\",\n",
       "            body: arrayBuffer\n",
       "        });\n",
       "    };\n",
       "\n",
       "    mediaRecorder.start(CHUNK_TIME);\n",
       "    console.log(\"Recording started...\");\n",
       "}\n",
       "\n",
       "startRecording();\n"
      ],
      "text/plain": [
       "<IPython.core.display.Javascript object>"
      ]
     },
     "metadata": {},
     "output_type": "display_data"
    }
   ],
   "source": [
    "# Cell 4: Frontend JavaScript to start recording from browser and send to Flask\n",
    "display(Javascript(\"\"\"\n",
    "const CHUNK_TIME = 1000; // ms\n",
    "\n",
    "let mediaRecorder;\n",
    "let audioChunks = [];\n",
    "\n",
    "async function startRecording() {\n",
    "    const stream = await navigator.mediaDevices.getUserMedia({ audio: true });\n",
    "    mediaRecorder = new MediaRecorder(stream);\n",
    "\n",
    "    mediaRecorder.ondataavailable = async e => {\n",
    "        const blob = e.data;\n",
    "        const arrayBuffer = await blob.arrayBuffer();\n",
    "        fetch(\"http://localhost:5001/upload\", {\n",
    "            method: \"POST\",\n",
    "            body: arrayBuffer\n",
    "        });\n",
    "    };\n",
    "\n",
    "    mediaRecorder.start(CHUNK_TIME);\n",
    "    console.log(\"Recording started...\");\n",
    "}\n",
    "\n",
    "startRecording();\n",
    "\"\"\"))\n"
   ]
  },
  {
   "cell_type": "code",
   "execution_count": 9,
   "id": "2a0d1d09-1714-4faa-8531-b128554d1bc9",
   "metadata": {},
   "outputs": [
    {
     "name": "stdout",
     "output_type": "stream",
     "text": [
      "Starting transcription loop...\n",
      "Transcribing 43 chunks...\n",
      "Saved audio to C:\\Users\\950207\\AppData\\Local\\Temp\\tmpm3qgkxng.wav\n"
     ]
    },
    {
     "name": "stderr",
     "output_type": "stream",
     "text": [
      "C:\\Users\\950207\\anaconda3\\envs\\gptcode\\lib\\site-packages\\whisper\\transcribe.py:126: UserWarning: FP16 is not supported on CPU; using FP32 instead\n",
      "  warnings.warn(\"FP16 is not supported on CPU; using FP32 instead\")\n"
     ]
    },
    {
     "name": "stdout",
     "output_type": "stream",
     "text": [
      "Transcription: \n",
      "Transcribing 7 chunks...\n",
      "Saved audio to C:\\Users\\950207\\AppData\\Local\\Temp\\tmpi8k3rhoo.wav\n",
      "Transcription: \n",
      "Transcribing 6 chunks...\n",
      "Saved audio to C:\\Users\\950207\\AppData\\Local\\Temp\\tmpcg6fll5m.wav\n",
      "Transcription: \n",
      "Transcribing 6 chunks...\n",
      "Saved audio to C:\\Users\\950207\\AppData\\Local\\Temp\\tmpbnvmc0qs.wav\n",
      "Transcription:  1.0.0.0.0.0.0.0.0.0.0.0.0.0.0.0.0.0.0.0.0.0.0.0.0.0.0.0.0.0.0.0.0.0.0.0.0.0.0.0.0.0.0.0.0.0.0.0.0.0.0.0.0.0.0.0.0.0.0.0.0.0.0.0.0.0.0.0.0.0.0.0.0.0.0.0.0.0.0.0.0.0.0.0.0.0.0.0.0.0.0.0.0.0.0.0.0.0.0.0.0.0.0.0.0.0.0.0.0.0.0.0\n",
      "Transcribing 11 chunks...\n",
      "Saved audio to C:\\Users\\950207\\AppData\\Local\\Temp\\tmpeyqrnb03.wav\n",
      "Transcription:  1.0.0.0.0.0.0.0.0.0.0.0.0.0.0.0.0.0.0.0.0.0.0.0.0.0.0.0.0.0.0.0.0.0.0.0.0.0.0.0.0.0.0.0.0.0.0.0.0.0.0.0.0.0.0.0.0.0.0.0.0.0.0.0.0.0.0.0.0.0.0.0.0.0.0.0.0.0.0.0.0.0.0.0.0.0.0.0.0.0.0.0.0.0.0.0.0.0.0.0.0.0.0.0.0.0.0.0.0.0.0.0\n",
      "Transcribing 11 chunks...\n",
      "Saved audio to C:\\Users\\950207\\AppData\\Local\\Temp\\tmpfwb2vbhj.wav\n",
      "Transcription:  1.0.0.0.0.0.0.0.0.0.0.0.0.0.0.0.0.0.0.0.0.0.0.0.0.0.0.0.0.0.0.0.0.0.0.0.0.0.0.0.0.0.0.0.0.0.0.0.0.0.0.0.0.0.0.0.0.0.0.0.0.0.0.0.0.0.0.0.0.0.0.0.0.0.0.0.0.0.0.0.0.0.0.0.0.0.0.0.0.0.0.0.0.0.0.0.0.0.0.0.0.0.0.0.0.0.0.0.0.0.0.0\n"
     ]
    },
    {
     "name": "stderr",
     "output_type": "stream",
     "text": [
      "Exception in thread Thread-52 (transcribe_loop):\n",
      "Traceback (most recent call last):\n",
      "  File \"C:\\Users\\950207\\anaconda3\\envs\\gptcode\\lib\\threading.py\", line 1016, in _bootstrap_inner\n",
      "    self.run()\n",
      "  File \"C:\\Users\\950207\\anaconda3\\envs\\gptcode\\lib\\site-packages\\ipykernel\\ipkernel.py\", line 766, in run_closure\n",
      "    _threading_Thread_run(self)\n",
      "  File \"C:\\Users\\950207\\anaconda3\\envs\\gptcode\\lib\\threading.py\", line 953, in run\n",
      "    self._target(*self._args, **self._kwargs)\n",
      "  File \"C:\\Users\\950207\\AppData\\Local\\Temp\\ipykernel_18148\\1842116349.py\", line 12, in transcribe_loop\n",
      "ValueError: buffer size must be a multiple of element size\n"
     ]
    },
    {
     "name": "stdout",
     "output_type": "stream",
     "text": [
      "Transcribing 10 chunks...\n"
     ]
    }
   ],
   "source": [
    "# Cell 5: Assemble audio chunks into a file and transcribe\n",
    "def transcribe_loop():\n",
    "    print(\"Starting transcription loop...\")\n",
    "    while True:\n",
    "        if len(AUDIO_BUFFER) > 0:\n",
    "            print(\"Transcribing {} chunks...\".format(len(AUDIO_BUFFER)))\n",
    "            raw = b''.join(AUDIO_BUFFER)\n",
    "            AUDIO_BUFFER.clear()\n",
    "\n",
    "            with tempfile.NamedTemporaryFile(delete=False, suffix=\".wav\") as tmp:\n",
    "                # Save as WAV\n",
    "                data = np.frombuffer(raw, dtype=np.int16)\n",
    "                sf.write(tmp.name, data, samplerate=44100, subtype='PCM_16')\n",
    "                print(f\"Saved audio to {tmp.name}\")\n",
    "                \n",
    "                # Transcribe\n",
    "                result = model.transcribe(tmp.name)\n",
    "                print(\"Transcription:\", result['text'])\n",
    "                \n",
    "        time.sleep(5)\n",
    "\n",
    "# Run this in background\n",
    "threading.Thread(target=transcribe_loop, daemon=True).start()\n"
   ]
  },
  {
   "cell_type": "code",
   "execution_count": 10,
   "id": "eac997b9-5b59-47ee-8906-3ab8f1f58247",
   "metadata": {},
   "outputs": [
    {
     "data": {
      "application/javascript": [
       "\n",
       "if (mediaRecorder && mediaRecorder.state !== \"inactive\") {\n",
       "    mediaRecorder.stop();\n",
       "    console.log(\"Recording stopped.\");\n",
       "}\n"
      ],
      "text/plain": [
       "<IPython.core.display.Javascript object>"
      ]
     },
     "metadata": {},
     "output_type": "display_data"
    }
   ],
   "source": [
    "# Cell 6: JavaScript to stop recording\n",
    "display(Javascript(\"\"\"\n",
    "if (mediaRecorder && mediaRecorder.state !== \"inactive\") {\n",
    "    mediaRecorder.stop();\n",
    "    console.log(\"Recording stopped.\");\n",
    "}\n",
    "\"\"\"))\n"
   ]
  },
  {
   "cell_type": "code",
   "execution_count": null,
   "id": "7ab4eb46-5cde-4443-b3c7-61e4c8a96b95",
   "metadata": {},
   "outputs": [],
   "source": []
  }
 ],
 "metadata": {
  "kernelspec": {
   "display_name": "Python 3 (ipykernel)",
   "language": "python",
   "name": "python3"
  },
  "language_info": {
   "codemirror_mode": {
    "name": "ipython",
    "version": 3
   },
   "file_extension": ".py",
   "mimetype": "text/x-python",
   "name": "python",
   "nbconvert_exporter": "python",
   "pygments_lexer": "ipython3",
   "version": "3.10.18"
  }
 },
 "nbformat": 4,
 "nbformat_minor": 5
}
