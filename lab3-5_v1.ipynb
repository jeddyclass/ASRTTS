{
 "cells": [
  {
   "cell_type": "code",
   "execution_count": 11,
   "id": "e5a8bc1b-5812-49d4-a7bd-b19ceef472d7",
   "metadata": {},
   "outputs": [
    {
     "name": "stdout",
     "output_type": "stream",
     "text": [
      "字錯誤率 (WER): 18.75%\n"
     ]
    }
   ],
   "source": [
    "import numpy as np\n",
    "\n",
    "def calculate_wer(reference, hypothesis):\n",
    "    ref = reference.split()\n",
    "    hyp = hypothesis.split()\n",
    "    n = len(ref)\n",
    "    m = len(hyp)\n",
    "\n",
    "    # 建立 DP 表格\n",
    "    dp = np.zeros((n + 1, m + 1), dtype=int)\n",
    "    for i in range(n + 1):\n",
    "        dp[i][0] = i\n",
    "    for j in range(m + 1):\n",
    "        dp[0][j] = j\n",
    "\n",
    "    for i in range(1, n + 1):\n",
    "        for j in range(1, m + 1):\n",
    "            cost = 0 if ref[i - 1] == hyp[j - 1] else 1\n",
    "            dp[i][j] = min(\n",
    "                dp[i - 1][j] + 1,      # 刪除\n",
    "                dp[i][j - 1] + 1,      # 插入\n",
    "                dp[i - 1][j - 1] + cost  # 替換或正確\n",
    "            )\n",
    "\n",
    "    # 回溯計算 substitutions, insertions, deletions\n",
    "    i, j = n, m\n",
    "    substitutions = insertions = deletions = 0\n",
    "    while i > 0 or j > 0:\n",
    "        if i > 0 and j > 0 and ref[i - 1] == hyp[j - 1]:\n",
    "            i -= 1\n",
    "            j -= 1\n",
    "        elif i > 0 and j > 0 and dp[i][j] == dp[i - 1][j - 1] + 1:\n",
    "            substitutions += 1\n",
    "            i -= 1\n",
    "            j -= 1\n",
    "        elif j > 0 and dp[i][j] == dp[i][j - 1] + 1:\n",
    "            insertions += 1\n",
    "            j -= 1\n",
    "        else:\n",
    "            deletions += 1\n",
    "            i -= 1\n",
    "\n",
    "    wer = (substitutions + insertions + deletions) / n if n > 0 else float('inf')\n",
    "    return wer\n",
    "\n",
    "# 測試範例\n",
    "reference_text = \"CNN's calculators help you make informed decisions about your personal finances at every stage of life\"\n",
    "hypothesis_text = \"CNN's calculator help you make informed decision about your personal finance at every stage of life\"\n",
    "\n",
    "wer_result = calculate_wer(reference_text, hypothesis_text)\n",
    "print(f\"字錯誤率 (WER): {wer_result:.2%}\")\n"
   ]
  },
  {
   "cell_type": "code",
   "execution_count": null,
   "id": "a76be82e-f83d-4813-8ce1-0cf659a90b94",
   "metadata": {},
   "outputs": [],
   "source": []
  }
 ],
 "metadata": {
  "kernelspec": {
   "display_name": "Python 3 (ipykernel)",
   "language": "python",
   "name": "python3"
  },
  "language_info": {
   "codemirror_mode": {
    "name": "ipython",
    "version": 3
   },
   "file_extension": ".py",
   "mimetype": "text/x-python",
   "name": "python",
   "nbconvert_exporter": "python",
   "pygments_lexer": "ipython3",
   "version": "3.12.11"
  }
 },
 "nbformat": 4,
 "nbformat_minor": 5
}
